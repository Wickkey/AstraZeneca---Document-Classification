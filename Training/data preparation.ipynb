{
 "cells": [
  {
   "cell_type": "code",
   "execution_count": 1,
   "metadata": {},
   "outputs": [],
   "source": [
    "import sqlite3\n",
    "import pandas as pd\n",
    "import gc\n",
    "import re\n",
    "from random import sample\n",
    "from IPython.display import clear_output"
   ]
  },
  {
   "cell_type": "code",
   "execution_count": 2,
   "metadata": {},
   "outputs": [],
   "source": [
    "from bs4 import BeautifulSoup\n",
    "import requests\n",
    "from IPython.display import clear_output"
   ]
  },
  {
   "cell_type": "code",
   "execution_count": 3,
   "metadata": {},
   "outputs": [],
   "source": [
    "master_headings = set()\n",
    "master_sub_headings = set()\n",
    "master_sections = set()"
   ]
  },
  {
   "cell_type": "code",
   "execution_count": 4,
   "metadata": {},
   "outputs": [
    {
     "ename": "AttributeError",
     "evalue": "'NoneType' object has no attribute 'find_all'",
     "output_type": "error",
     "traceback": [
      "\u001b[1;31m---------------------------------------------------------------------------\u001b[0m",
      "\u001b[1;31mAttributeError\u001b[0m                            Traceback (most recent call last)",
      "\u001b[1;32md:\\Sem 8\\AstraZeneca - Document Classification\\Training\\data preparation.ipynb Cell 4\u001b[0m in \u001b[0;36m<cell line: 3>\u001b[1;34m()\u001b[0m\n\u001b[0;32m      <a href='vscode-notebook-cell:/d%3A/Sem%208/AstraZeneca%20-%20Document%20Classification/Training/data%20preparation.ipynb#W3sZmlsZQ%3D%3D?line=0'>1</a>\u001b[0m parent_links \u001b[39m=\u001b[39m []\n\u001b[0;32m      <a href='vscode-notebook-cell:/d%3A/Sem%208/AstraZeneca%20-%20Document%20Classification/Training/data%20preparation.ipynb#W3sZmlsZQ%3D%3D?line=1'>2</a>\u001b[0m soup_links_parent \u001b[39m=\u001b[39m BeautifulSoup(requests\u001b[39m.\u001b[39mget(\u001b[39m'\u001b[39m\u001b[39mhttps://www.drugs.com/pro/\u001b[39m\u001b[39m'\u001b[39m)\u001b[39m.\u001b[39mtext,\u001b[39m'\u001b[39m\u001b[39mlxml\u001b[39m\u001b[39m'\u001b[39m)\n\u001b[1;32m----> <a href='vscode-notebook-cell:/d%3A/Sem%208/AstraZeneca%20-%20Document%20Classification/Training/data%20preparation.ipynb#W3sZmlsZQ%3D%3D?line=2'>3</a>\u001b[0m \u001b[39mfor\u001b[39;00m links \u001b[39min\u001b[39;00m soup_links_parent\u001b[39m.\u001b[39;49mfind(class_ \u001b[39m=\u001b[39;49m \u001b[39m'\u001b[39;49m\u001b[39mcolumn-split col-list-az\u001b[39;49m\u001b[39m'\u001b[39;49m)\u001b[39m.\u001b[39;49mfind_all(\u001b[39m'\u001b[39m\u001b[39ma\u001b[39m\u001b[39m'\u001b[39m,href\u001b[39m=\u001b[39m\u001b[39mTrue\u001b[39;00m):\n\u001b[0;32m      <a href='vscode-notebook-cell:/d%3A/Sem%208/AstraZeneca%20-%20Document%20Classification/Training/data%20preparation.ipynb#W3sZmlsZQ%3D%3D?line=3'>4</a>\u001b[0m     parent_links\u001b[39m.\u001b[39mappend(\u001b[39m'\u001b[39m\u001b[39mhttps://www.drugs.com\u001b[39m\u001b[39m'\u001b[39m\u001b[39m+\u001b[39mlinks[\u001b[39m'\u001b[39m\u001b[39mhref\u001b[39m\u001b[39m'\u001b[39m])\n",
      "\u001b[1;31mAttributeError\u001b[0m: 'NoneType' object has no attribute 'find_all'"
     ]
    }
   ],
   "source": [
    "parent_links = []\n",
    "soup_links_parent = BeautifulSoup(requests.get('https://www.drugs.com/pro/').text,'lxml')\n",
    "for links in soup_links_parent.find(class_ = 'column-split col-list-az').find_all('a',href=True):\n",
    "    parent_links.append('https://www.drugs.com'+links['href'])"
   ]
  },
  {
   "cell_type": "code",
   "execution_count": null,
   "metadata": {},
   "outputs": [],
   "source": []
  }
 ],
 "metadata": {
  "kernelspec": {
   "display_name": "Python 3.9.12 ('ptorch')",
   "language": "python",
   "name": "python3"
  },
  "language_info": {
   "codemirror_mode": {
    "name": "ipython",
    "version": 3
   },
   "file_extension": ".py",
   "mimetype": "text/x-python",
   "name": "python",
   "nbconvert_exporter": "python",
   "pygments_lexer": "ipython3",
   "version": "3.9.12"
  },
  "orig_nbformat": 4,
  "vscode": {
   "interpreter": {
    "hash": "fcd12df9f8843c89688cbd8513aa245f39ab9b54777834fa8b3e6883ef6aefc8"
   }
  }
 },
 "nbformat": 4,
 "nbformat_minor": 2
}
