{
 "cells": [
  {
   "cell_type": "code",
   "execution_count": 143,
   "metadata": {},
   "outputs": [],
   "source": [
    "from docx import Document\n",
    "import pandas as pd\n",
    "import docx.document\n",
    "import docx.oxml.table\n",
    "import docx.oxml.text.paragraph\n",
    "import docx.table\n",
    "import docx.text.paragraph\n",
    "import re\n",
    "import nltk\n",
    "import pandas as pd\n",
    "import numpy as np\n",
    "import seaborn as sns\n",
    "import matplotlib.pyplot as plt\n",
    "from sklearn.model_selection import train_test_split\n",
    "from sklearn.metrics import accuracy_score, f1_score, precision_score, recall_score, classification_report\n",
    "from sklearn.linear_model import LogisticRegression\n",
    "from sklearn.preprocessing import StandardScaler\n",
    "from sklearn.metrics import confusion_matrix, precision_score, recall_score, f1_score, accuracy_score, plot_confusion_matrix\n",
    "import matplotlib.pyplot as plt\n",
    "from sklearn.model_selection import train_test_split\n"
   ]
  },
  {
   "cell_type": "markdown",
   "metadata": {},
   "source": [
    "##### Data for doc and docx files"
   ]
  },
  {
   "cell_type": "code",
   "execution_count": 3,
   "metadata": {},
   "outputs": [],
   "source": [
    "document = Document('../data/input-word-document.docx')"
   ]
  },
  {
   "cell_type": "code",
   "execution_count": 4,
   "metadata": {},
   "outputs": [],
   "source": [
    "def iter_paragraphs(parent, recursive=True):\n",
    "    \"\"\"\n",
    "    Yield each paragraph and table child within *parent*, in document order.\n",
    "    Each returned value is an instance of Paragraph. *parent*\n",
    "    would most commonly be a reference to a main Document object, but\n",
    "    also works for a _Cell object, which itself can contain paragraphs and tables.\n",
    "    \"\"\"\n",
    "    if isinstance(parent, docx.document.Document):\n",
    "        parent_elm = parent.element.body\n",
    "    elif isinstance(parent, docx.table._Cell):\n",
    "        parent_elm = parent._tc\n",
    "    else:\n",
    "        raise TypeError(repr(type(parent)))\n",
    "\n",
    "    for child in parent_elm.iterchildren():\n",
    "        if isinstance(child, docx.oxml.text.paragraph.CT_P):\n",
    "            yield docx.text.paragraph.Paragraph(child, parent)\n",
    "        elif isinstance(child, docx.oxml.table.CT_Tbl):\n",
    "            if recursive:\n",
    "                table = docx.table.Table(child, parent)\n",
    "                yield table\n",
    "        else:\n",
    "            print(child)\n"
   ]
  },
  {
   "cell_type": "markdown",
   "metadata": {},
   "source": [
    "Output File"
   ]
  },
  {
   "cell_type": "code",
   "execution_count": 104,
   "metadata": {},
   "outputs": [
    {
     "name": "stdout",
     "output_type": "stream",
     "text": [
      "<CT_SectPr '<w:sectPr>' at 0x1a616a87d18>\n"
     ]
    }
   ],
   "source": [
    "document = Document('output-word-document.docx')\n",
    "df = pd.DataFrame(columns=['Text', 'Contains Image', 'Contains Table'])\n",
    "for paragraph in iter_paragraphs(document):\n",
    "    image = 0\n",
    "    table = 0\n",
    "    if isinstance(paragraph, docx.text.paragraph.Paragraph):\n",
    "        text = paragraph.text\n",
    "        if 'graphicData' in paragraph._p.xml:\n",
    "            image = 1\n",
    "    elif isinstance(paragraph, docx.table.Table):\n",
    "        table = 1\n",
    "        text = \"\"\n",
    "        for row in paragraph.rows:\n",
    "            for cell in row.cells:\n",
    "                temp = cell.text\n",
    "                temp = temp.replace('\\n', '')\n",
    "                text += temp\n",
    "\n",
    "    df = df.append({'Text': text, 'Contains Image': image,\n",
    "                    'Contains Table': table}, ignore_index=True)\n"
   ]
  },
  {
   "cell_type": "code",
   "execution_count": 162,
   "metadata": {},
   "outputs": [],
   "source": [
    "# extracting information\n",
    "startreg = [r\"<<START_HEADING>>.*\",\n",
    "            r\"<<START_SUBHEADING>>.*\", r\"<<START_SECTION>>.*\"]\n",
    "endreg = [r\".*<<END_HEADING>>\", r\".*<<END_SUBHEADING>>\", r\".*<<END_SECTION>>\"]\n",
    "\n",
    "\n",
    "def complete_tags(df):\n",
    "    prev_startTag = None\n",
    "    prev_endTag = None\n",
    "    for index, row in df.iterrows():\n",
    "        curr_startTag = None\n",
    "        curr_endTag = None\n",
    "        for regex_start, regex_end in zip(startreg, endreg):\n",
    "            if re.compile(regex_start).match(row['text']):\n",
    "                curr_startTag = regex_start[:-2]  # to account for .*\n",
    "            if re.compile(regex_end).match(row['text']):\n",
    "                curr_endTag = regex_end[2:]  # to account for .*\n",
    "\n",
    "\n",
    "        if curr_startTag == None and curr_endTag == None:\n",
    "            if prev_startTag == None and prev_endTag == None:\n",
    "                # do nothing\n",
    "                df.loc[index, 'extracted_text'] = df.loc[index, 'text']\n",
    "            elif prev_startTag and prev_endTag == None:\n",
    "                curr_startTag = prev_startTag\n",
    "                curr_endTag = prev_endTag\n",
    "                df.loc[index, 'text'] = curr_startTag + row['text'] + \\\n",
    "                    endreg[startreg.index(curr_startTag+r'.*')][2:]\n",
    "                regex = curr_startTag + \\\n",
    "                    r\"(?P<text>.*)\" + \\\n",
    "                    endreg[startreg.index(curr_startTag+r'.*')][2:]\n",
    "                pattern = re.compile(regex)\n",
    "                try:\n",
    "                    extract_text = pattern.search(\n",
    "                        df.loc[index, 'text']).group(1)\n",
    "                except:\n",
    "                    print(row['text'])\n",
    "                    break\n",
    "                df.loc[index, 'extracted_text'] = extract_text\n",
    "                df.loc[index, 'class'] = startreg.index(curr_startTag+r'.*')\n",
    "\n",
    "        elif curr_startTag and curr_endTag:\n",
    "            regex = curr_startTag + r\"(?P<text>.*)\" + curr_endTag\n",
    "            pattern = re.compile(regex)\n",
    "            try:\n",
    "                extract_text = pattern.search(df.loc[index, 'text']).group(1)\n",
    "            except:\n",
    "                print(row['text'])\n",
    "                break\n",
    "            df.loc[index, 'extracted_text'] = extract_text\n",
    "            df.loc[index, 'class'] = startreg.index(curr_startTag+r'.*')\n",
    "            curr_startTag = None\n",
    "            curr_endTag = None\n",
    "\n",
    "        elif curr_startTag and curr_endTag == None:\n",
    "            df.loc[index, 'text'] = row['text'] + \\\n",
    "                endreg[startreg.index(curr_startTag+r'.*')][2:]\n",
    "            regex = curr_startTag + \\\n",
    "                r\"(?P<text>.*)\" + \\\n",
    "                endreg[startreg.index(curr_startTag+r'.*')][2:]\n",
    "            pattern = re.compile(regex)\n",
    "            try:\n",
    "                extract_text = pattern.search(df.loc[index, 'text']).group(1)\n",
    "            except:\n",
    "                print(row['text'])\n",
    "                break\n",
    "            df.loc[index, 'extracted_text'] = extract_text\n",
    "            df.loc[index, 'class'] = startreg.index(curr_startTag+r'.*')\n",
    "\n",
    "        elif curr_startTag == None and curr_endTag:\n",
    "            df.loc[index, 'text'] = startreg[endreg.index(\n",
    "                r'.*'+curr_endTag)][:-2] + row['text']\n",
    "            regex = startreg[endreg.index(\n",
    "                r'.*'+curr_endTag)][:-2] + r\"(?P<text>.*)\" + curr_endTag\n",
    "            pattern = re.compile(regex)\n",
    "            try:\n",
    "                extract_text = pattern.search(df.loc[index, 'text']).group(1)\n",
    "            except:\n",
    "                print(row['text'])\n",
    "                break\n",
    "            df.loc[index, 'extracted_text'] = extract_text\n",
    "            df.loc[index, 'class'] = endreg.index(r'.*'+curr_endTag)\n",
    "            curr_startTag = None\n",
    "            curr_endTag = None\n",
    "\n",
    "        prev_startTag = curr_startTag\n",
    "        prev_endTag = curr_endTag\n",
    "\n",
    "    return df\n"
   ]
  },
  {
   "cell_type": "code",
   "execution_count": 111,
   "metadata": {},
   "outputs": [],
   "source": [
    "df2 = df.copy()\n",
    "df2.columns = ['text', 'contains_image', 'contains_table']\n",
    "df2 = df2.reindex(columns=['text', 'contains_image',\n",
    "                           'contains_table', 'extracted_text', 'class'])"
   ]
  },
  {
   "cell_type": "code",
   "execution_count": 112,
   "metadata": {},
   "outputs": [
    {
     "data": {
      "text/html": [
       "<div>\n",
       "<style scoped>\n",
       "    .dataframe tbody tr th:only-of-type {\n",
       "        vertical-align: middle;\n",
       "    }\n",
       "\n",
       "    .dataframe tbody tr th {\n",
       "        vertical-align: top;\n",
       "    }\n",
       "\n",
       "    .dataframe thead th {\n",
       "        text-align: right;\n",
       "    }\n",
       "</style>\n",
       "<table border=\"1\" class=\"dataframe\">\n",
       "  <thead>\n",
       "    <tr style=\"text-align: right;\">\n",
       "      <th></th>\n",
       "      <th>text</th>\n",
       "      <th>contains_image</th>\n",
       "      <th>contains_table</th>\n",
       "      <th>extracted_text</th>\n",
       "      <th>class</th>\n",
       "    </tr>\n",
       "  </thead>\n",
       "  <tbody>\n",
       "    <tr>\n",
       "      <th>0</th>\n",
       "      <td>▼This medicinal product is subject to addit...</td>\n",
       "      <td>0</td>\n",
       "      <td>0</td>\n",
       "      <td>▼This medicinal product is subject to addit...</td>\n",
       "      <td>NaN</td>\n",
       "    </tr>\n",
       "    <tr>\n",
       "      <th>1</th>\n",
       "      <td>&lt;&lt;START_HEADING&gt;&gt;AUSTRALIAN PRODUCT INFORMATIO...</td>\n",
       "      <td>0</td>\n",
       "      <td>0</td>\n",
       "      <td>AUSTRALIAN PRODUCT INFORMATION</td>\n",
       "      <td>0.0</td>\n",
       "    </tr>\n",
       "    <tr>\n",
       "      <th>2</th>\n",
       "      <td>&lt;&lt;START_SUBHEADING&gt;&gt;IMFINZI®&lt;&lt;END_SUBHEADING&gt;&gt;</td>\n",
       "      <td>0</td>\n",
       "      <td>0</td>\n",
       "      <td>IMFINZI®</td>\n",
       "      <td>1.0</td>\n",
       "    </tr>\n",
       "    <tr>\n",
       "      <th>3</th>\n",
       "      <td></td>\n",
       "      <td>0</td>\n",
       "      <td>0</td>\n",
       "      <td></td>\n",
       "      <td>NaN</td>\n",
       "    </tr>\n",
       "    <tr>\n",
       "      <th>4</th>\n",
       "      <td>&lt;&lt;START_SUBHEADING&gt;&gt; (durvalumab) &lt;&lt;END_SUBHEA...</td>\n",
       "      <td>0</td>\n",
       "      <td>0</td>\n",
       "      <td>(durvalumab)</td>\n",
       "      <td>1.0</td>\n",
       "    </tr>\n",
       "    <tr>\n",
       "      <th>...</th>\n",
       "      <td>...</td>\n",
       "      <td>...</td>\n",
       "      <td>...</td>\n",
       "      <td>...</td>\n",
       "      <td>...</td>\n",
       "    </tr>\n",
       "    <tr>\n",
       "      <th>472</th>\n",
       "      <td>&lt;&lt;START_SECTION&gt;&gt;Summary table of changes &lt;&lt;EN...</td>\n",
       "      <td>0</td>\n",
       "      <td>0</td>\n",
       "      <td>Summary table of changes</td>\n",
       "      <td>2.0</td>\n",
       "    </tr>\n",
       "    <tr>\n",
       "      <th>473</th>\n",
       "      <td>&lt;&lt;START_SECTION&gt;&gt;Section changed Summary of ne...</td>\n",
       "      <td>0</td>\n",
       "      <td>1</td>\n",
       "      <td>Section changed Summary of new information 4.1...</td>\n",
       "      <td>2.0</td>\n",
       "    </tr>\n",
       "    <tr>\n",
       "      <th>474</th>\n",
       "      <td>&lt;&lt;START_SECTION&gt;&gt;© AstraZeneca 2021 &lt;&lt;END_SECT...</td>\n",
       "      <td>0</td>\n",
       "      <td>0</td>\n",
       "      <td>© AstraZeneca 2021</td>\n",
       "      <td>2.0</td>\n",
       "    </tr>\n",
       "    <tr>\n",
       "      <th>475</th>\n",
       "      <td>&lt;&lt;START_SECTION&gt;&gt; Doc ID-003924983 v14 &lt;&lt;END_S...</td>\n",
       "      <td>0</td>\n",
       "      <td>0</td>\n",
       "      <td>Doc ID-003924983 v14</td>\n",
       "      <td>2.0</td>\n",
       "    </tr>\n",
       "    <tr>\n",
       "      <th>476</th>\n",
       "      <td></td>\n",
       "      <td>0</td>\n",
       "      <td>0</td>\n",
       "      <td></td>\n",
       "      <td>NaN</td>\n",
       "    </tr>\n",
       "  </tbody>\n",
       "</table>\n",
       "<p>477 rows × 5 columns</p>\n",
       "</div>"
      ],
      "text/plain": [
       "                                                  text contains_image  \\\n",
       "0       ▼This medicinal product is subject to addit...              0   \n",
       "1    <<START_HEADING>>AUSTRALIAN PRODUCT INFORMATIO...              0   \n",
       "2      <<START_SUBHEADING>>IMFINZI®<<END_SUBHEADING>>               0   \n",
       "3                                                                   0   \n",
       "4    <<START_SUBHEADING>> (durvalumab) <<END_SUBHEA...              0   \n",
       "..                                                 ...            ...   \n",
       "472  <<START_SECTION>>Summary table of changes <<EN...              0   \n",
       "473  <<START_SECTION>>Section changed Summary of ne...              0   \n",
       "474  <<START_SECTION>>© AstraZeneca 2021 <<END_SECT...              0   \n",
       "475  <<START_SECTION>> Doc ID-003924983 v14 <<END_S...              0   \n",
       "476                                                                 0   \n",
       "\n",
       "    contains_table                                     extracted_text  class  \n",
       "0                0     ▼This medicinal product is subject to addit...    NaN  \n",
       "1                0                     AUSTRALIAN PRODUCT INFORMATION    0.0  \n",
       "2                0                                           IMFINZI®    1.0  \n",
       "3                0                                                       NaN  \n",
       "4                0                                      (durvalumab)     1.0  \n",
       "..             ...                                                ...    ...  \n",
       "472              0                          Summary table of changes     2.0  \n",
       "473              1  Section changed Summary of new information 4.1...    2.0  \n",
       "474              0                                © AstraZeneca 2021     2.0  \n",
       "475              0                              Doc ID-003924983 v14     2.0  \n",
       "476              0                                                       NaN  \n",
       "\n",
       "[477 rows x 5 columns]"
      ]
     },
     "execution_count": 112,
     "metadata": {},
     "output_type": "execute_result"
    }
   ],
   "source": [
    "complete_tags(df2)"
   ]
  },
  {
   "cell_type": "code",
   "execution_count": 181,
   "metadata": {},
   "outputs": [],
   "source": [
    "def feature_extraction(df,drop_section = True):\n",
    "    df_new = df[['extracted_text', 'class',\n",
    "                 'contains_image', 'contains_table']]\n",
    "    df_new.dropna(axis=0, subset=['class'], inplace=True)\n",
    "    df_new['extracted_text'] = df_new['extracted_text'].str.strip()\n",
    "    df_new = df_new[(df_new['extracted_text'] != '') |\n",
    "                    (df_new['contains_image'] != 0)]\n",
    "    df_new.reset_index(drop=True, inplace=True)\n",
    "    df_new['extracted_text'] = df_new['extracted_text'].astype(str)\n",
    "    import nltk\n",
    "    from nltk.corpus import stopwords\n",
    "    df_new['words'] = df_new['extracted_text'].apply(lambda x: len(x.split()))\n",
    "    stop_words = set(stopwords.words('english'))\n",
    "    df_new['stopwords'] = df_new['extracted_text'].apply(\n",
    "        lambda x: len(set(x.split()) & stop_words))\n",
    "    df_new['endswithdot'] = df_new['extracted_text'].str.endswith('.')\n",
    "    df_new['endswithdot'] = df_new['endswithdot'].astype(int)\n",
    "    df_new['Table'] = df_new['extracted_text'].str.contains('Table')\n",
    "    df_new['Table'] = df_new['Table'].astype(int)\n",
    "    df_new['contains section'] = df_new['extracted_text'].str.contains(\n",
    "        'Section')\n",
    "    df_new['contains section'] = df_new['contains section'].astype(int)\n",
    "    df_new['contains percentage'] = df_new['extracted_text'].str.contains('%')\n",
    "    df_new['contains percentage'] = df_new['contains percentage'].astype(int)\n",
    "    df_new['Uppercase'] = df_new['extracted_text'].str.findall(\n",
    "        r'[A-Z]').str.len()\n",
    "    df_new['Lowercase'] = df_new['extracted_text'].str.findall(\n",
    "        r'[a-z]').str.len()\n",
    "    df_new['percentage capital'] = (\n",
    "        df_new['Uppercase']*100)/(df_new['Lowercase']+df_new['Uppercase'])\n",
    "    if drop_section:\n",
    "        df_new.drop(columns=['Uppercase', 'Lowercase','contains section'], inplace=True)\n",
    "    else:\n",
    "        df_new.drop(columns=['Uppercase', 'Lowercase'], inplace=True)\n",
    "    df_new['percentage capital'] = df_new['percentage capital'].fillna(0)\n",
    "    df_new['class'] = df_new['class'].astype(int)\n",
    "    import re\n",
    "\n",
    "    def fun_starts_integer(x):\n",
    "        reg = r\"\\d+?\\s.*\"\n",
    "        pat = re.compile(reg)\n",
    "        if pat.match(x) == None:\n",
    "            return 0\n",
    "        else:\n",
    "            return 1\n",
    "\n",
    "    def fun_starts_decimal(x):\n",
    "        reg = r\"\\d+\\.\\d+?\\s.*\"\n",
    "        pat = re.compile(reg)\n",
    "        if pat.match(x) == None:\n",
    "            return 0\n",
    "        else:\n",
    "            return 1\n",
    "    df_new['starts_integer'] = df_new['extracted_text'].apply(\n",
    "        lambda x: fun_starts_integer(x))\n",
    "    df_new['starts_decimal'] = df_new['extracted_text'].apply(\n",
    "        lambda x: fun_starts_decimal(x))\n",
    "    return df_new\n"
   ]
  },
  {
   "cell_type": "code",
   "execution_count": 139,
   "metadata": {},
   "outputs": [],
   "source": [
    "df2.to_csv('outputv3.csv')\n",
    "df2 = pd.read_csv('outputv3.csv')"
   ]
  },
  {
   "cell_type": "code",
   "execution_count": 140,
   "metadata": {},
   "outputs": [
    {
     "name": "stderr",
     "output_type": "stream",
     "text": [
      "C:\\Users\\VIGNESH S\\anaconda3\\lib\\site-packages\\ipykernel_launcher.py:4: SettingWithCopyWarning: \n",
      "A value is trying to be set on a copy of a slice from a DataFrame\n",
      "\n",
      "See the caveats in the documentation: https://pandas.pydata.org/pandas-docs/stable/user_guide/indexing.html#returning-a-view-versus-a-copy\n",
      "  after removing the cwd from sys.path.\n",
      "C:\\Users\\VIGNESH S\\anaconda3\\lib\\site-packages\\ipykernel_launcher.py:5: SettingWithCopyWarning: \n",
      "A value is trying to be set on a copy of a slice from a DataFrame.\n",
      "Try using .loc[row_indexer,col_indexer] = value instead\n",
      "\n",
      "See the caveats in the documentation: https://pandas.pydata.org/pandas-docs/stable/user_guide/indexing.html#returning-a-view-versus-a-copy\n",
      "  \"\"\"\n"
     ]
    }
   ],
   "source": [
    "df_final = feature_extraction(df2)\n",
    "df_final.to_csv('feature_output_final.csv')\n"
   ]
  },
  {
   "cell_type": "markdown",
   "metadata": {},
   "source": [
    "Random Forests "
   ]
  },
  {
   "cell_type": "code",
   "execution_count": 141,
   "metadata": {},
   "outputs": [],
   "source": [
    "df = pd.read_csv('feature_output_final.csv')\n",
    "df.drop(columns=df.columns[0], axis=1, inplace=True)\n"
   ]
  },
  {
   "cell_type": "code",
   "execution_count": 144,
   "metadata": {},
   "outputs": [],
   "source": [
    "X = df.drop(columns=['extracted_text', 'class'])\n",
    "y = df['class']\n"
   ]
  },
  {
   "cell_type": "code",
   "execution_count": 145,
   "metadata": {},
   "outputs": [],
   "source": [
    "X_train, X_test, y_train, y_test = train_test_split(\n",
    "    X, y, test_size=0.33, random_state=42, stratify=y)\n"
   ]
  },
  {
   "cell_type": "code",
   "execution_count": 146,
   "metadata": {},
   "outputs": [],
   "source": [
    "from sklearn.ensemble import RandomForestClassifier\n",
    "clf = RandomForestClassifier(\n",
    "    max_depth=9, random_state=0, class_weight='balanced')\n",
    "clf.fit(X_train, y_train)\n",
    "pred = clf.predict(X_test)"
   ]
  },
  {
   "cell_type": "code",
   "execution_count": 147,
   "metadata": {},
   "outputs": [
    {
     "data": {
      "text/plain": [
       "0.9871244635193133"
      ]
     },
     "execution_count": 147,
     "metadata": {},
     "output_type": "execute_result"
    }
   ],
   "source": [
    "from sklearn.metrics import accuracy_score\n",
    "accuracy_score(y_train, clf.predict(X_train))\n"
   ]
  },
  {
   "cell_type": "code",
   "execution_count": 148,
   "metadata": {},
   "outputs": [
    {
     "name": "stderr",
     "output_type": "stream",
     "text": [
      "C:\\Users\\VIGNESH S\\anaconda3\\lib\\site-packages\\sklearn\\utils\\deprecation.py:87: FutureWarning: Function plot_confusion_matrix is deprecated; Function `plot_confusion_matrix` is deprecated in 1.0 and will be removed in 1.2. Use one of the class methods: ConfusionMatrixDisplay.from_predictions or ConfusionMatrixDisplay.from_estimator.\n",
      "  warnings.warn(msg, category=FutureWarning)\n"
     ]
    },
    {
     "data": {
      "image/png": "[encoded data removed]",
      "text/plain": [
       "<Figure size 432x288 with 2 Axes>"
      ]
     },
     "metadata": {
      "needs_background": "light"
     },
     "output_type": "display_data"
    }
   ],
   "source": [
    "from sklearn.metrics import confusion_matrix\n",
    "plot_confusion_matrix(clf, X_test, y_test)\n",
    "plt.show()\n"
   ]
  },
  {
   "cell_type": "code",
   "execution_count": 149,
   "metadata": {},
   "outputs": [
    {
     "data": {
      "text/plain": [
       "percentage capital     0.387536\n",
       "words                  0.248446\n",
       "starts_integer         0.157429\n",
       "stopwords              0.089979\n",
       "endswithdot            0.075684\n",
       "starts_decimal         0.013368\n",
       "Table                  0.011194\n",
       "contains_image         0.008900\n",
       "contains percentage    0.005523\n",
       "contains_table         0.001940\n",
       "dtype: float64"
      ]
     },
     "execution_count": 149,
     "metadata": {},
     "output_type": "execute_result"
    }
   ],
   "source": [
    "feature_imp = pd.Series(clf.feature_importances_,\n",
    "                        index=X_train.columns).sort_values(ascending=False)\n",
    "feature_imp\n"
   ]
  },
  {
   "cell_type": "markdown",
   "metadata": {},
   "source": [
    "It was found that the feature 'contains the word section' was not important. Hence it was dropped in feature engineering."
   ]
  },
  {
   "cell_type": "code",
   "execution_count": 150,
   "metadata": {},
   "outputs": [],
   "source": [
    "import joblib\n",
    "file_name1 = \"random_forest_vfinal.pkl\"\n",
    "\n",
    "# save\n",
    "joblib.dump(clf, open(file_name1, \"wb\"))"
   ]
  },
  {
   "cell_type": "markdown",
   "metadata": {},
   "source": [
    "Txt files"
   ]
  },
  {
   "cell_type": "code",
   "execution_count": 157,
   "metadata": {},
   "outputs": [],
   "source": [
    "def read_lines(location):\n",
    "    document = open(location, 'r')\n",
    "    doc = [x.rstrip() for x in document.readlines()]\n",
    "    return doc"
   ]
  },
  {
   "cell_type": "code",
   "execution_count": 158,
   "metadata": {},
   "outputs": [],
   "source": [
    "doc = read_lines('output-plain-document.txt')"
   ]
  },
  {
   "cell_type": "code",
   "execution_count": 183,
   "metadata": {},
   "outputs": [],
   "source": [
    "df = pd.DataFrame(columns=['Text', 'Contains Image', 'Table'])\n",
    "for element in doc:\n",
    "    if element != '':\n",
    "        df = df.append({'Text': element, 'Contains Image': int(\n",
    "            'Figure' in element), 'Table': int('Table' in element)}, ignore_index=True)"
   ]
  },
  {
   "cell_type": "code",
   "execution_count": 184,
   "metadata": {},
   "outputs": [],
   "source": [
    "df2 = df.copy()\n",
    "df2.columns = ['text', 'contains_image', 'contains_table']\n",
    "df2 = df2.reindex(columns=['text', 'contains_image',\n",
    "                           'contains_table', 'extracted_text', 'class'])\n"
   ]
  },
  {
   "cell_type": "code",
   "execution_count": 185,
   "metadata": {},
   "outputs": [],
   "source": [
    "df2= complete_tags(df2)\n",
    "df2.to_csv('output_txt.csv')"
   ]
  },
  {
   "cell_type": "code",
   "execution_count": 188,
   "metadata": {},
   "outputs": [],
   "source": [
    "def feature_extraction_txt(df):\n",
    "    df_new=df[['extracted_text','class','contains_image','contains_table']]\n",
    "    df_new.dropna(inplace=True)\n",
    "    df_new.reset_index(drop=True, inplace=True)\n",
    "    df_new['extracted_text'] = df_new['extracted_text'].str.strip()\n",
    "    import nltk\n",
    "    from nltk.corpus import stopwords  \n",
    "    df_new['words'] = df_new['extracted_text'].apply(lambda x: len(x.split()))\n",
    "    stop_words = set(stopwords.words('english'))\n",
    "    df_new['stopwords'] = df_new['extracted_text'].apply(lambda x: len(set(x.split()) & stop_words))\n",
    "    df_new['endswithdot']=df_new['extracted_text'].str.endswith('.')\n",
    "    df_new['endswithdot']=df_new['endswithdot'].astype(int)\n",
    "    df_new['Table']=df_new['extracted_text'].str.contains('Table')\n",
    "    df_new['Table']=df_new['Table'].astype(int)\n",
    "    df_new['contains section']=df_new['extracted_text'].str.contains('Section')\n",
    "    df_new['contains section']=df_new['contains section'].astype(int)\n",
    "    df_new['contains percentage']=df_new['extracted_text'].str.contains('%')\n",
    "    df_new['contains percentage']=df_new['contains percentage'].astype(int)\n",
    "    df_new['Uppercase'] = df_new['extracted_text'].str.findall(r'[A-Z]').str.len()\n",
    "    df_new['Lowercase'] = df_new['extracted_text'].str.findall(r'[a-z]').str.len()\n",
    "    df_new['percentage capital']=(df_new['Uppercase']*100)/(df_new['Lowercase']+df_new['Uppercase'])\n",
    "    df_new.drop(columns=['Uppercase','Lowercase'],inplace=True)\n",
    "    df_new.dropna(inplace=True)\n",
    "    df_new['class']=df_new['class'].astype(int)\n",
    "    import re\n",
    "    def fun_starts_integer(x):\n",
    "        reg = r\"\\d+?\\s.*\"\n",
    "        pat  = re.compile(reg)\n",
    "        if pat.match(x)==None:\n",
    "            return 0\n",
    "        else:\n",
    "            return 1\n",
    "    def fun_starts_decimal(x):\n",
    "        reg = r\"\\d+\\.\\d+?\\s.*\"\n",
    "        pat  = re.compile(reg)\n",
    "        if pat.match(x)==None:\n",
    "            return 0\n",
    "        else:\n",
    "            return 1\n",
    "    df_new['starts_integer']=df_new['extracted_text'].apply(lambda x:fun_starts_integer(x))\n",
    "    df_new['starts_decimal']=df_new['extracted_text'].apply(lambda x:fun_starts_decimal(x))\n",
    "    return df_new"
   ]
  },
  {
   "cell_type": "code",
   "execution_count": 191,
   "metadata": {},
   "outputs": [
    {
     "name": "stderr",
     "output_type": "stream",
     "text": [
      "C:\\Users\\VIGNESH S\\anaconda3\\lib\\site-packages\\ipykernel_launcher.py:3: SettingWithCopyWarning: \n",
      "A value is trying to be set on a copy of a slice from a DataFrame\n",
      "\n",
      "See the caveats in the documentation: https://pandas.pydata.org/pandas-docs/stable/user_guide/indexing.html#returning-a-view-versus-a-copy\n",
      "  This is separate from the ipykernel package so we can avoid doing imports until\n",
      "C:\\Users\\VIGNESH S\\anaconda3\\lib\\site-packages\\ipykernel_launcher.py:5: SettingWithCopyWarning: \n",
      "A value is trying to be set on a copy of a slice from a DataFrame.\n",
      "Try using .loc[row_indexer,col_indexer] = value instead\n",
      "\n",
      "See the caveats in the documentation: https://pandas.pydata.org/pandas-docs/stable/user_guide/indexing.html#returning-a-view-versus-a-copy\n",
      "  \"\"\"\n",
      "C:\\Users\\VIGNESH S\\anaconda3\\lib\\site-packages\\ipykernel_launcher.py:8: SettingWithCopyWarning: \n",
      "A value is trying to be set on a copy of a slice from a DataFrame.\n",
      "Try using .loc[row_indexer,col_indexer] = value instead\n",
      "\n",
      "See the caveats in the documentation: https://pandas.pydata.org/pandas-docs/stable/user_guide/indexing.html#returning-a-view-versus-a-copy\n",
      "  \n",
      "C:\\Users\\VIGNESH S\\anaconda3\\lib\\site-packages\\ipykernel_launcher.py:10: SettingWithCopyWarning: \n",
      "A value is trying to be set on a copy of a slice from a DataFrame.\n",
      "Try using .loc[row_indexer,col_indexer] = value instead\n",
      "\n",
      "See the caveats in the documentation: https://pandas.pydata.org/pandas-docs/stable/user_guide/indexing.html#returning-a-view-versus-a-copy\n",
      "  # Remove the CWD from sys.path while we load stuff.\n",
      "C:\\Users\\VIGNESH S\\anaconda3\\lib\\site-packages\\ipykernel_launcher.py:11: SettingWithCopyWarning: \n",
      "A value is trying to be set on a copy of a slice from a DataFrame.\n",
      "Try using .loc[row_indexer,col_indexer] = value instead\n",
      "\n",
      "See the caveats in the documentation: https://pandas.pydata.org/pandas-docs/stable/user_guide/indexing.html#returning-a-view-versus-a-copy\n",
      "  # This is added back by InteractiveShellApp.init_path()\n",
      "C:\\Users\\VIGNESH S\\anaconda3\\lib\\site-packages\\ipykernel_launcher.py:12: SettingWithCopyWarning: \n",
      "A value is trying to be set on a copy of a slice from a DataFrame.\n",
      "Try using .loc[row_indexer,col_indexer] = value instead\n",
      "\n",
      "See the caveats in the documentation: https://pandas.pydata.org/pandas-docs/stable/user_guide/indexing.html#returning-a-view-versus-a-copy\n",
      "  if sys.path[0] == '':\n",
      "C:\\Users\\VIGNESH S\\anaconda3\\lib\\site-packages\\ipykernel_launcher.py:13: SettingWithCopyWarning: \n",
      "A value is trying to be set on a copy of a slice from a DataFrame.\n",
      "Try using .loc[row_indexer,col_indexer] = value instead\n",
      "\n",
      "See the caveats in the documentation: https://pandas.pydata.org/pandas-docs/stable/user_guide/indexing.html#returning-a-view-versus-a-copy\n",
      "  del sys.path[0]\n",
      "C:\\Users\\VIGNESH S\\anaconda3\\lib\\site-packages\\ipykernel_launcher.py:14: SettingWithCopyWarning: \n",
      "A value is trying to be set on a copy of a slice from a DataFrame.\n",
      "Try using .loc[row_indexer,col_indexer] = value instead\n",
      "\n",
      "See the caveats in the documentation: https://pandas.pydata.org/pandas-docs/stable/user_guide/indexing.html#returning-a-view-versus-a-copy\n",
      "  \n",
      "C:\\Users\\VIGNESH S\\anaconda3\\lib\\site-packages\\ipykernel_launcher.py:15: SettingWithCopyWarning: \n",
      "A value is trying to be set on a copy of a slice from a DataFrame.\n",
      "Try using .loc[row_indexer,col_indexer] = value instead\n",
      "\n",
      "See the caveats in the documentation: https://pandas.pydata.org/pandas-docs/stable/user_guide/indexing.html#returning-a-view-versus-a-copy\n",
      "  from ipykernel import kernelapp as app\n",
      "C:\\Users\\VIGNESH S\\anaconda3\\lib\\site-packages\\ipykernel_launcher.py:16: SettingWithCopyWarning: \n",
      "A value is trying to be set on a copy of a slice from a DataFrame.\n",
      "Try using .loc[row_indexer,col_indexer] = value instead\n",
      "\n",
      "See the caveats in the documentation: https://pandas.pydata.org/pandas-docs/stable/user_guide/indexing.html#returning-a-view-versus-a-copy\n",
      "  app.launch_new_instance()\n",
      "C:\\Users\\VIGNESH S\\anaconda3\\lib\\site-packages\\ipykernel_launcher.py:17: SettingWithCopyWarning: \n",
      "A value is trying to be set on a copy of a slice from a DataFrame.\n",
      "Try using .loc[row_indexer,col_indexer] = value instead\n",
      "\n",
      "See the caveats in the documentation: https://pandas.pydata.org/pandas-docs/stable/user_guide/indexing.html#returning-a-view-versus-a-copy\n",
      "C:\\Users\\VIGNESH S\\anaconda3\\lib\\site-packages\\ipykernel_launcher.py:18: SettingWithCopyWarning: \n",
      "A value is trying to be set on a copy of a slice from a DataFrame.\n",
      "Try using .loc[row_indexer,col_indexer] = value instead\n",
      "\n",
      "See the caveats in the documentation: https://pandas.pydata.org/pandas-docs/stable/user_guide/indexing.html#returning-a-view-versus-a-copy\n",
      "C:\\Users\\VIGNESH S\\anaconda3\\lib\\site-packages\\ipykernel_launcher.py:19: SettingWithCopyWarning: \n",
      "A value is trying to be set on a copy of a slice from a DataFrame.\n",
      "Try using .loc[row_indexer,col_indexer] = value instead\n",
      "\n",
      "See the caveats in the documentation: https://pandas.pydata.org/pandas-docs/stable/user_guide/indexing.html#returning-a-view-versus-a-copy\n",
      "C:\\Users\\VIGNESH S\\anaconda3\\lib\\site-packages\\ipykernel_launcher.py:20: SettingWithCopyWarning: \n",
      "A value is trying to be set on a copy of a slice from a DataFrame.\n",
      "Try using .loc[row_indexer,col_indexer] = value instead\n",
      "\n",
      "See the caveats in the documentation: https://pandas.pydata.org/pandas-docs/stable/user_guide/indexing.html#returning-a-view-versus-a-copy\n",
      "C:\\Users\\VIGNESH S\\anaconda3\\lib\\site-packages\\ipykernel_launcher.py:21: SettingWithCopyWarning: \n",
      "A value is trying to be set on a copy of a slice from a DataFrame.\n",
      "Try using .loc[row_indexer,col_indexer] = value instead\n",
      "\n",
      "See the caveats in the documentation: https://pandas.pydata.org/pandas-docs/stable/user_guide/indexing.html#returning-a-view-versus-a-copy\n",
      "C:\\Users\\VIGNESH S\\anaconda3\\lib\\site-packages\\pandas\\core\\frame.py:4315: SettingWithCopyWarning: \n",
      "A value is trying to be set on a copy of a slice from a DataFrame\n",
      "\n",
      "See the caveats in the documentation: https://pandas.pydata.org/pandas-docs/stable/user_guide/indexing.html#returning-a-view-versus-a-copy\n",
      "  errors=errors,\n",
      "C:\\Users\\VIGNESH S\\anaconda3\\lib\\site-packages\\ipykernel_launcher.py:23: SettingWithCopyWarning: \n",
      "A value is trying to be set on a copy of a slice from a DataFrame\n",
      "\n",
      "See the caveats in the documentation: https://pandas.pydata.org/pandas-docs/stable/user_guide/indexing.html#returning-a-view-versus-a-copy\n",
      "C:\\Users\\VIGNESH S\\anaconda3\\lib\\site-packages\\ipykernel_launcher.py:24: SettingWithCopyWarning: \n",
      "A value is trying to be set on a copy of a slice from a DataFrame.\n",
      "Try using .loc[row_indexer,col_indexer] = value instead\n",
      "\n",
      "See the caveats in the documentation: https://pandas.pydata.org/pandas-docs/stable/user_guide/indexing.html#returning-a-view-versus-a-copy\n",
      "C:\\Users\\VIGNESH S\\anaconda3\\lib\\site-packages\\ipykernel_launcher.py:40: SettingWithCopyWarning: \n",
      "A value is trying to be set on a copy of a slice from a DataFrame.\n",
      "Try using .loc[row_indexer,col_indexer] = value instead\n",
      "\n",
      "See the caveats in the documentation: https://pandas.pydata.org/pandas-docs/stable/user_guide/indexing.html#returning-a-view-versus-a-copy\n",
      "C:\\Users\\VIGNESH S\\anaconda3\\lib\\site-packages\\ipykernel_launcher.py:41: SettingWithCopyWarning: \n",
      "A value is trying to be set on a copy of a slice from a DataFrame.\n",
      "Try using .loc[row_indexer,col_indexer] = value instead\n",
      "\n",
      "See the caveats in the documentation: https://pandas.pydata.org/pandas-docs/stable/user_guide/indexing.html#returning-a-view-versus-a-copy\n"
     ]
    }
   ],
   "source": [
    "df = pd.read_csv('output_txt.csv')\n",
    "df_final = feature_extraction_txt(df)\n",
    "df_final.to_csv('features_txt.csv')\n"
   ]
  },
  {
   "cell_type": "code",
   "execution_count": 192,
   "metadata": {},
   "outputs": [
    {
     "data": {
      "text/html": [
       "<div>\n",
       "<style scoped>\n",
       "    .dataframe tbody tr th:only-of-type {\n",
       "        vertical-align: middle;\n",
       "    }\n",
       "\n",
       "    .dataframe tbody tr th {\n",
       "        vertical-align: top;\n",
       "    }\n",
       "\n",
       "    .dataframe thead th {\n",
       "        text-align: right;\n",
       "    }\n",
       "</style>\n",
       "<table border=\"1\" class=\"dataframe\">\n",
       "  <thead>\n",
       "    <tr style=\"text-align: right;\">\n",
       "      <th></th>\n",
       "      <th>Unnamed: 0</th>\n",
       "      <th>extracted_text</th>\n",
       "      <th>class</th>\n",
       "      <th>contains_image</th>\n",
       "      <th>contains_table</th>\n",
       "      <th>words</th>\n",
       "      <th>stopwords</th>\n",
       "      <th>endswithdot</th>\n",
       "      <th>Table</th>\n",
       "      <th>contains section</th>\n",
       "      <th>contains percentage</th>\n",
       "      <th>percentage capital</th>\n",
       "      <th>starts_integer</th>\n",
       "      <th>starts_decimal</th>\n",
       "    </tr>\n",
       "  </thead>\n",
       "  <tbody>\n",
       "    <tr>\n",
       "      <th>0</th>\n",
       "      <td>0</td>\n",
       "      <td>AUSTRALIAN PRODUCT INFORMATION</td>\n",
       "      <td>0</td>\n",
       "      <td>0</td>\n",
       "      <td>0</td>\n",
       "      <td>3</td>\n",
       "      <td>0</td>\n",
       "      <td>0</td>\n",
       "      <td>0</td>\n",
       "      <td>0</td>\n",
       "      <td>0</td>\n",
       "      <td>100.0</td>\n",
       "      <td>0</td>\n",
       "      <td>0</td>\n",
       "    </tr>\n",
       "    <tr>\n",
       "      <th>1</th>\n",
       "      <td>1</td>\n",
       "      <td>IMFINZI?</td>\n",
       "      <td>1</td>\n",
       "      <td>0</td>\n",
       "      <td>0</td>\n",
       "      <td>1</td>\n",
       "      <td>0</td>\n",
       "      <td>0</td>\n",
       "      <td>0</td>\n",
       "      <td>0</td>\n",
       "      <td>0</td>\n",
       "      <td>100.0</td>\n",
       "      <td>0</td>\n",
       "      <td>0</td>\n",
       "    </tr>\n",
       "    <tr>\n",
       "      <th>2</th>\n",
       "      <td>2</td>\n",
       "      <td>(durvalumab)</td>\n",
       "      <td>1</td>\n",
       "      <td>0</td>\n",
       "      <td>0</td>\n",
       "      <td>1</td>\n",
       "      <td>0</td>\n",
       "      <td>0</td>\n",
       "      <td>0</td>\n",
       "      <td>0</td>\n",
       "      <td>0</td>\n",
       "      <td>0.0</td>\n",
       "      <td>0</td>\n",
       "      <td>0</td>\n",
       "    </tr>\n",
       "    <tr>\n",
       "      <th>3</th>\n",
       "      <td>3</td>\n",
       "      <td>1 \\tNAME OF THE MEDICINE</td>\n",
       "      <td>0</td>\n",
       "      <td>0</td>\n",
       "      <td>0</td>\n",
       "      <td>5</td>\n",
       "      <td>0</td>\n",
       "      <td>0</td>\n",
       "      <td>0</td>\n",
       "      <td>0</td>\n",
       "      <td>0</td>\n",
       "      <td>100.0</td>\n",
       "      <td>1</td>\n",
       "      <td>0</td>\n",
       "    </tr>\n",
       "    <tr>\n",
       "      <th>4</th>\n",
       "      <td>4</td>\n",
       "      <td>Durvalumab</td>\n",
       "      <td>2</td>\n",
       "      <td>0</td>\n",
       "      <td>0</td>\n",
       "      <td>1</td>\n",
       "      <td>0</td>\n",
       "      <td>0</td>\n",
       "      <td>0</td>\n",
       "      <td>0</td>\n",
       "      <td>0</td>\n",
       "      <td>10.0</td>\n",
       "      <td>0</td>\n",
       "      <td>0</td>\n",
       "    </tr>\n",
       "  </tbody>\n",
       "</table>\n",
       "</div>"
      ],
      "text/plain": [
       "   Unnamed: 0                  extracted_text  class  contains_image  \\\n",
       "0           0  AUSTRALIAN PRODUCT INFORMATION      0               0   \n",
       "1           1                        IMFINZI?      1               0   \n",
       "2           2                    (durvalumab)      1               0   \n",
       "3           3        1 \\tNAME OF THE MEDICINE      0               0   \n",
       "4           4                      Durvalumab      2               0   \n",
       "\n",
       "   contains_table  words  stopwords  endswithdot  Table  contains section  \\\n",
       "0               0      3          0            0      0                 0   \n",
       "1               0      1          0            0      0                 0   \n",
       "2               0      1          0            0      0                 0   \n",
       "3               0      5          0            0      0                 0   \n",
       "4               0      1          0            0      0                 0   \n",
       "\n",
       "   contains percentage  percentage capital  starts_integer  starts_decimal  \n",
       "0                    0               100.0               0               0  \n",
       "1                    0               100.0               0               0  \n",
       "2                    0                 0.0               0               0  \n",
       "3                    0               100.0               1               0  \n",
       "4                    0                10.0               0               0  "
      ]
     },
     "execution_count": 192,
     "metadata": {},
     "output_type": "execute_result"
    }
   ],
   "source": [
    "data = 'features_txt.csv'\n",
    "df = pd.read_csv(data)\n",
    "df.head()"
   ]
  },
  {
   "cell_type": "code",
   "execution_count": 193,
   "metadata": {},
   "outputs": [],
   "source": [
    "df.drop('Unnamed: 0', axis=1, inplace=True)\n"
   ]
  },
  {
   "cell_type": "code",
   "execution_count": 171,
   "metadata": {},
   "outputs": [],
   "source": [
    "import numpy as np  # linear algebra\n",
    "import pandas as pd  # data processing, CSV file I/O (e.g. pd.read_csv)\n",
    "import matplotlib.pyplot as plt  # for data visualization purposes\n",
    "import seaborn as sns  # for statistical data visualization\n"
   ]
  },
  {
   "cell_type": "markdown",
   "metadata": {},
   "source": [
    "## EDA"
   ]
  },
  {
   "cell_type": "code",
   "execution_count": 194,
   "metadata": {},
   "outputs": [
    {
     "data": {
      "text/html": [
       "<div>\n",
       "<style scoped>\n",
       "    .dataframe tbody tr th:only-of-type {\n",
       "        vertical-align: middle;\n",
       "    }\n",
       "\n",
       "    .dataframe tbody tr th {\n",
       "        vertical-align: top;\n",
       "    }\n",
       "\n",
       "    .dataframe thead th {\n",
       "        text-align: right;\n",
       "    }\n",
       "</style>\n",
       "<table border=\"1\" class=\"dataframe\">\n",
       "  <thead>\n",
       "    <tr style=\"text-align: right;\">\n",
       "      <th></th>\n",
       "      <th>extracted_text</th>\n",
       "      <th>class</th>\n",
       "      <th>contains_image</th>\n",
       "      <th>contains_table</th>\n",
       "      <th>words</th>\n",
       "      <th>stopwords</th>\n",
       "      <th>endswithdot</th>\n",
       "      <th>Table</th>\n",
       "      <th>contains section</th>\n",
       "      <th>contains percentage</th>\n",
       "      <th>percentage capital</th>\n",
       "      <th>starts_integer</th>\n",
       "      <th>starts_decimal</th>\n",
       "    </tr>\n",
       "  </thead>\n",
       "  <tbody>\n",
       "    <tr>\n",
       "      <th>4</th>\n",
       "      <td>Durvalumab</td>\n",
       "      <td>2</td>\n",
       "      <td>0</td>\n",
       "      <td>0</td>\n",
       "      <td>1</td>\n",
       "      <td>0</td>\n",
       "      <td>0</td>\n",
       "      <td>0</td>\n",
       "      <td>0</td>\n",
       "      <td>0</td>\n",
       "      <td>10.000000</td>\n",
       "      <td>0</td>\n",
       "      <td>0</td>\n",
       "    </tr>\n",
       "    <tr>\n",
       "      <th>6</th>\n",
       "      <td>Each vial of IMFINZI concentrated solution for...</td>\n",
       "      <td>2</td>\n",
       "      <td>0</td>\n",
       "      <td>0</td>\n",
       "      <td>17</td>\n",
       "      <td>3</td>\n",
       "      <td>1</td>\n",
       "      <td>0</td>\n",
       "      <td>0</td>\n",
       "      <td>0</td>\n",
       "      <td>10.000000</td>\n",
       "      <td>0</td>\n",
       "      <td>0</td>\n",
       "    </tr>\n",
       "    <tr>\n",
       "      <th>7</th>\n",
       "      <td>For the full list of excipients, see Section 6.1.</td>\n",
       "      <td>2</td>\n",
       "      <td>0</td>\n",
       "      <td>0</td>\n",
       "      <td>9</td>\n",
       "      <td>2</td>\n",
       "      <td>1</td>\n",
       "      <td>0</td>\n",
       "      <td>1</td>\n",
       "      <td>0</td>\n",
       "      <td>5.555556</td>\n",
       "      <td>0</td>\n",
       "      <td>0</td>\n",
       "    </tr>\n",
       "    <tr>\n",
       "      <th>9</th>\n",
       "      <td>Sterile, preservative free, clear to opalescen...</td>\n",
       "      <td>2</td>\n",
       "      <td>0</td>\n",
       "      <td>0</td>\n",
       "      <td>19</td>\n",
       "      <td>4</td>\n",
       "      <td>1</td>\n",
       "      <td>0</td>\n",
       "      <td>0</td>\n",
       "      <td>0</td>\n",
       "      <td>0.806452</td>\n",
       "      <td>0</td>\n",
       "      <td>0</td>\n",
       "    </tr>\n",
       "    <tr>\n",
       "      <th>13</th>\n",
       "      <td>IMFINZI (durvalumab) is indicated for the trea...</td>\n",
       "      <td>2</td>\n",
       "      <td>0</td>\n",
       "      <td>0</td>\n",
       "      <td>23</td>\n",
       "      <td>7</td>\n",
       "      <td>1</td>\n",
       "      <td>0</td>\n",
       "      <td>0</td>\n",
       "      <td>0</td>\n",
       "      <td>7.500000</td>\n",
       "      <td>0</td>\n",
       "      <td>0</td>\n",
       "    </tr>\n",
       "    <tr>\n",
       "      <th>...</th>\n",
       "      <td>...</td>\n",
       "      <td>...</td>\n",
       "      <td>...</td>\n",
       "      <td>...</td>\n",
       "      <td>...</td>\n",
       "      <td>...</td>\n",
       "      <td>...</td>\n",
       "      <td>...</td>\n",
       "      <td>...</td>\n",
       "      <td>...</td>\n",
       "      <td>...</td>\n",
       "      <td>...</td>\n",
       "      <td>...</td>\n",
       "    </tr>\n",
       "    <tr>\n",
       "      <th>687</th>\n",
       "      <td>Section updated as a consequence of the deleti...</td>\n",
       "      <td>2</td>\n",
       "      <td>0</td>\n",
       "      <td>0</td>\n",
       "      <td>14</td>\n",
       "      <td>4</td>\n",
       "      <td>1</td>\n",
       "      <td>0</td>\n",
       "      <td>1</td>\n",
       "      <td>0</td>\n",
       "      <td>6.493506</td>\n",
       "      <td>0</td>\n",
       "      <td>0</td>\n",
       "    </tr>\n",
       "    <tr>\n",
       "      <th>688</th>\n",
       "      <td>New ?1500 mg every 4 weeks? dosage for NSCLC h...</td>\n",
       "      <td>2</td>\n",
       "      <td>0</td>\n",
       "      <td>0</td>\n",
       "      <td>12</td>\n",
       "      <td>3</td>\n",
       "      <td>1</td>\n",
       "      <td>0</td>\n",
       "      <td>0</td>\n",
       "      <td>0</td>\n",
       "      <td>14.634146</td>\n",
       "      <td>0</td>\n",
       "      <td>0</td>\n",
       "    </tr>\n",
       "    <tr>\n",
       "      <th>689</th>\n",
       "      <td>?1500 mg every 4 weeks? dosage added as per CD...</td>\n",
       "      <td>2</td>\n",
       "      <td>0</td>\n",
       "      <td>0</td>\n",
       "      <td>15</td>\n",
       "      <td>1</td>\n",
       "      <td>1</td>\n",
       "      <td>0</td>\n",
       "      <td>0</td>\n",
       "      <td>0</td>\n",
       "      <td>9.756098</td>\n",
       "      <td>0</td>\n",
       "      <td>0</td>\n",
       "    </tr>\n",
       "    <tr>\n",
       "      <th>690</th>\n",
       "      <td>? AstraZeneca 2021</td>\n",
       "      <td>2</td>\n",
       "      <td>0</td>\n",
       "      <td>0</td>\n",
       "      <td>3</td>\n",
       "      <td>0</td>\n",
       "      <td>0</td>\n",
       "      <td>0</td>\n",
       "      <td>0</td>\n",
       "      <td>0</td>\n",
       "      <td>18.181818</td>\n",
       "      <td>0</td>\n",
       "      <td>0</td>\n",
       "    </tr>\n",
       "    <tr>\n",
       "      <th>691</th>\n",
       "      <td>Doc ID-003924983 v14</td>\n",
       "      <td>2</td>\n",
       "      <td>0</td>\n",
       "      <td>0</td>\n",
       "      <td>3</td>\n",
       "      <td>0</td>\n",
       "      <td>0</td>\n",
       "      <td>0</td>\n",
       "      <td>0</td>\n",
       "      <td>0</td>\n",
       "      <td>50.000000</td>\n",
       "      <td>0</td>\n",
       "      <td>0</td>\n",
       "    </tr>\n",
       "  </tbody>\n",
       "</table>\n",
       "<p>594 rows × 13 columns</p>\n",
       "</div>"
      ],
      "text/plain": [
       "                                        extracted_text  class  contains_image  \\\n",
       "4                                           Durvalumab      2               0   \n",
       "6    Each vial of IMFINZI concentrated solution for...      2               0   \n",
       "7    For the full list of excipients, see Section 6.1.      2               0   \n",
       "9    Sterile, preservative free, clear to opalescen...      2               0   \n",
       "13   IMFINZI (durvalumab) is indicated for the trea...      2               0   \n",
       "..                                                 ...    ...             ...   \n",
       "687  Section updated as a consequence of the deleti...      2               0   \n",
       "688  New ?1500 mg every 4 weeks? dosage for NSCLC h...      2               0   \n",
       "689  ?1500 mg every 4 weeks? dosage added as per CD...      2               0   \n",
       "690                                 ? AstraZeneca 2021      2               0   \n",
       "691                               Doc ID-003924983 v14      2               0   \n",
       "\n",
       "     contains_table  words  stopwords  endswithdot  Table  contains section  \\\n",
       "4                 0      1          0            0      0                 0   \n",
       "6                 0     17          3            1      0                 0   \n",
       "7                 0      9          2            1      0                 1   \n",
       "9                 0     19          4            1      0                 0   \n",
       "13                0     23          7            1      0                 0   \n",
       "..              ...    ...        ...          ...    ...               ...   \n",
       "687               0     14          4            1      0                 1   \n",
       "688               0     12          3            1      0                 0   \n",
       "689               0     15          1            1      0                 0   \n",
       "690               0      3          0            0      0                 0   \n",
       "691               0      3          0            0      0                 0   \n",
       "\n",
       "     contains percentage  percentage capital  starts_integer  starts_decimal  \n",
       "4                      0           10.000000               0               0  \n",
       "6                      0           10.000000               0               0  \n",
       "7                      0            5.555556               0               0  \n",
       "9                      0            0.806452               0               0  \n",
       "13                     0            7.500000               0               0  \n",
       "..                   ...                 ...             ...             ...  \n",
       "687                    0            6.493506               0               0  \n",
       "688                    0           14.634146               0               0  \n",
       "689                    0            9.756098               0               0  \n",
       "690                    0           18.181818               0               0  \n",
       "691                    0           50.000000               0               0  \n",
       "\n",
       "[594 rows x 13 columns]"
      ]
     },
     "execution_count": 194,
     "metadata": {},
     "output_type": "execute_result"
    }
   ],
   "source": [
    "# df[df['contains section']!=0]\n",
    "df[df['class'] == 2]\n",
    "# sum(df['contains section']!=0)\n"
   ]
  },
  {
   "cell_type": "code",
   "execution_count": 195,
   "metadata": {},
   "outputs": [
    {
     "name": "stdout",
     "output_type": "stream",
     "text": [
      "The percentage of section class in target feature is 85.84%\n"
     ]
    },
    {
     "data": {
      "image/png": "[encoded data removed]",
      "text/plain": [
       "<Figure size 360x360 with 1 Axes>"
      ]
     },
     "metadata": {
      "needs_background": "light"
     },
     "output_type": "display_data"
    }
   ],
   "source": [
    "plt.figure(figsize=(5, 5))\n",
    "df['class'].value_counts().plot(kind='bar')\n",
    "plt.xlabel('class'), plt.ylabel('Count'), plt.xticks(rotation='horizontal')\n",
    "plt.title(\"Count vs Class\")\n",
    "print(\"The percentage of section class in target feature is {0:.2f}%\".format(\n",
    "    df['class'].value_counts()[2]/sum(df['class'].value_counts())*100))\n"
   ]
  },
  {
   "cell_type": "code",
   "execution_count": 196,
   "metadata": {},
   "outputs": [
    {
     "data": {
      "text/plain": [
       "2    594\n",
       "1     87\n",
       "0     11\n",
       "Name: class, dtype: int64"
      ]
     },
     "execution_count": 196,
     "metadata": {},
     "output_type": "execute_result"
    }
   ],
   "source": [
    "df['class'].value_counts()\n"
   ]
  },
  {
   "cell_type": "markdown",
   "metadata": {},
   "source": [
    "## Model training"
   ]
  },
  {
   "cell_type": "code",
   "execution_count": 197,
   "metadata": {},
   "outputs": [],
   "source": [
    "X = df.drop(['contains_table', 'extracted_text', 'class'], axis=1)\n",
    "y = df['class']\n"
   ]
  },
  {
   "cell_type": "code",
   "execution_count": 198,
   "metadata": {},
   "outputs": [],
   "source": [
    "# split X and y into training and testing sets\n",
    "from sklearn.model_selection import train_test_split\n",
    "X_train, X_test, y_train, y_test = train_test_split(\n",
    "    X, y, test_size=0.3, random_state=42, stratify=y)\n"
   ]
  },
  {
   "cell_type": "code",
   "execution_count": 199,
   "metadata": {},
   "outputs": [
    {
     "data": {
      "text/plain": [
       "2    415\n",
       "1     61\n",
       "0      8\n",
       "Name: class, dtype: int64"
      ]
     },
     "execution_count": 199,
     "metadata": {},
     "output_type": "execute_result"
    }
   ],
   "source": [
    "y_train.value_counts()\n"
   ]
  },
  {
   "cell_type": "code",
   "execution_count": 200,
   "metadata": {},
   "outputs": [
    {
     "data": {
      "text/plain": [
       "2    179\n",
       "1     26\n",
       "0      3\n",
       "Name: class, dtype: int64"
      ]
     },
     "execution_count": 200,
     "metadata": {},
     "output_type": "execute_result"
    }
   ],
   "source": [
    "y_test.value_counts()\n"
   ]
  },
  {
   "cell_type": "markdown",
   "metadata": {},
   "source": [
    "##### SVM with default hyperparameters\n",
    "Default hyperparameter means C = 1.0, kernel = rbf and gamma = auto among other parameters."
   ]
  },
  {
   "cell_type": "code",
   "execution_count": 202,
   "metadata": {},
   "outputs": [
    {
     "name": "stdout",
     "output_type": "stream",
     "text": [
      "Model accuracy score with default hyperparameters: 0.8606\n"
     ]
    }
   ],
   "source": [
    "from sklearn.svm import SVC\n",
    "# import metrics to compute accuracy\n",
    "from sklearn.metrics import accuracy_score\n",
    "# instantiate classifier with default hyperparameters\n",
    "svc = SVC(random_state=42)\n",
    "# fit classifier to training set\n",
    "svc.fit(X_train, y_train)\n",
    "# make predictions on test set\n",
    "y_pred = svc.predict(X_test)\n",
    "# compute and print accuracy score\n",
    "print('Model accuracy score with default hyperparameters: {0:0.4f}'. format(\n",
    "    accuracy_score(y_test, y_pred)))\n"
   ]
  },
  {
   "cell_type": "markdown",
   "metadata": {},
   "source": [
    "##### SVM with rbf kernel, C=100"
   ]
  },
  {
   "cell_type": "code",
   "execution_count": 203,
   "metadata": {},
   "outputs": [
    {
     "name": "stdout",
     "output_type": "stream",
     "text": [
      "Model accuracy score with rbf kernel and C=100.0 : 0.8894\n"
     ]
    }
   ],
   "source": [
    "# instantiate classifier with rbf kernel and C=100\n",
    "svc = SVC(C=100.0, random_state=42)\n",
    "# fit classifier to training set\n",
    "svc.fit(X_train, y_train)\n",
    "# make predictions on test set\n",
    "y_pred = svc.predict(X_test)\n",
    "# compute and print accuracy score\n",
    "print('Model accuracy score with rbf kernel and C=100.0 : {0:0.4f}'. format(\n",
    "    accuracy_score(y_test, y_pred)))\n"
   ]
  },
  {
   "cell_type": "code",
   "execution_count": 204,
   "metadata": {},
   "outputs": [
    {
     "data": {
      "text/plain": [
       "{'C': 100.0,\n",
       " 'break_ties': False,\n",
       " 'cache_size': 200,\n",
       " 'class_weight': None,\n",
       " 'coef0': 0.0,\n",
       " 'decision_function_shape': 'ovr',\n",
       " 'degree': 3,\n",
       " 'gamma': 'scale',\n",
       " 'kernel': 'rbf',\n",
       " 'max_iter': -1,\n",
       " 'probability': False,\n",
       " 'random_state': 42,\n",
       " 'shrinking': True,\n",
       " 'tol': 0.001,\n",
       " 'verbose': False}"
      ]
     },
     "execution_count": 204,
     "metadata": {},
     "output_type": "execute_result"
    }
   ],
   "source": [
    "svc.get_params()\n"
   ]
  },
  {
   "cell_type": "markdown",
   "metadata": {},
   "source": [
    "##### SVM with rbf kernel, C=1000"
   ]
  },
  {
   "cell_type": "code",
   "execution_count": 205,
   "metadata": {},
   "outputs": [
    {
     "name": "stdout",
     "output_type": "stream",
     "text": [
      "Model accuracy score with rbf kernel and C=100.0 : 0.8894\n"
     ]
    }
   ],
   "source": [
    "# instantiate classifier with rbf kernel and C=1000\n",
    "svc = SVC(C=1000.0, random_state=42)\n",
    "# fit classifier to training set\n",
    "svc.fit(X_train, y_train)\n",
    "# make predictions on test set\n",
    "y_pred = svc.predict(X_test)\n",
    "# compute and print accuracy score\n",
    "print('Model accuracy score with rbf kernel and C=100.0 : {0:0.4f}'. format(\n",
    "    accuracy_score(y_test, y_pred)))\n"
   ]
  },
  {
   "cell_type": "markdown",
   "metadata": {},
   "source": [
    "###### SVM with linear kernel and C=1.0"
   ]
  },
  {
   "cell_type": "code",
   "execution_count": 206,
   "metadata": {},
   "outputs": [
    {
     "name": "stdout",
     "output_type": "stream",
     "text": [
      "Model accuracy score with linear kernel and C=1.0 : 0.8894\n"
     ]
    }
   ],
   "source": [
    "# instantiate classifier with linear kernel and C=1.0\n",
    "linear_svc = SVC(kernel='linear', C=1.0, random_state=42)\n",
    "# fit classifier to training set\n",
    "linear_svc.fit(X_train, y_train)\n",
    "# make predictions on test set\n",
    "y_pred_test = linear_svc.predict(X_test)\n",
    "# compute and print accuracy score\n",
    "print('Model accuracy score with linear kernel and C=1.0 : {0:0.4f}'. format(\n",
    "    accuracy_score(y_test, y_pred_test)))\n"
   ]
  },
  {
   "cell_type": "markdown",
   "metadata": {},
   "source": [
    "###### SVM with linear kernel and C=100.0"
   ]
  },
  {
   "cell_type": "code",
   "execution_count": 207,
   "metadata": {},
   "outputs": [
    {
     "name": "stdout",
     "output_type": "stream",
     "text": [
      "Model accuracy score with linear kernel and C=100.0 : 0.8894\n"
     ]
    }
   ],
   "source": [
    "# instantiate classifier with linear kernel and C=100.0\n",
    "linear_svc = SVC(kernel='linear', C=100.0, random_state=42)\n",
    "# fit classifier to training set\n",
    "linear_svc.fit(X_train, y_train)\n",
    "# make predictions on test set\n",
    "y_pred_test = linear_svc.predict(X_test)\n",
    "# compute and print accuracy score\n",
    "print('Model accuracy score with linear kernel and C=100.0 : {0:0.4f}'. format(\n",
    "    accuracy_score(y_test, y_pred_test)))\n"
   ]
  },
  {
   "cell_type": "code",
   "execution_count": 208,
   "metadata": {},
   "outputs": [
    {
     "data": {
      "text/plain": [
       "{'C': 100.0,\n",
       " 'break_ties': False,\n",
       " 'cache_size': 200,\n",
       " 'class_weight': None,\n",
       " 'coef0': 0.0,\n",
       " 'decision_function_shape': 'ovr',\n",
       " 'degree': 3,\n",
       " 'gamma': 'scale',\n",
       " 'kernel': 'linear',\n",
       " 'max_iter': -1,\n",
       " 'probability': False,\n",
       " 'random_state': 42,\n",
       " 'shrinking': True,\n",
       " 'tol': 0.001,\n",
       " 'verbose': False}"
      ]
     },
     "execution_count": 208,
     "metadata": {},
     "output_type": "execute_result"
    }
   ],
   "source": [
    "linear_svc.get_params()\n"
   ]
  },
  {
   "cell_type": "markdown",
   "metadata": {},
   "source": [
    "#### Grid Search"
   ]
  },
  {
   "cell_type": "code",
   "execution_count": null,
   "metadata": {},
   "outputs": [],
   "source": [
    "# Parameter grid\n",
    "from sklearn.model_selection import GridSearchCV, cross_val_score\n",
    "from sklearn.metrics import accuracy_score, confusion_matrix\n",
    "svm_param_grid = {'C': np.logspace(1, 7, num=30, base=2), 'gamma': [\n",
    "    0.1, 0.01, 0.001, 1], \"kernel\": [\"rbf\", \"linear\"]}\n",
    "# svm_param_grid = {'C': np.logspace(3,6,num=20,base = 2)}\n",
    "\n",
    "# Create SVM grid search classifier\n",
    "clf = SVC(random_state=42)\n",
    "svm_grid = GridSearchCV(clf, svm_param_grid, cv=4, verbose=2, n_jobs=-1)\n",
    "\n",
    "# Train the classifier\n",
    "svm_grid.fit(X_train, y_train)\n",
    "\n",
    "print(\"Best Parameters:\\n\", svm_grid.best_params_)\n",
    "print(\"Mean cross-validated score of the best_estimator: \", svm_grid.best_score_)\n",
    "\n",
    "# Select best svc\n",
    "best_svc = svm_grid.best_estimator_\n",
    "\n",
    "# Make predictions using the optimised parameters\n",
    "svm_pred = best_svc.predict(X_test)\n",
    "\n",
    "print('SVM accuracy:', round(accuracy_score(y_test, svm_pred), 3))\n",
    "cm_svm = confusion_matrix(y_test, svm_pred)\n",
    "\n",
    "ax = plt.subplot()\n",
    "sns.heatmap(cm_svm, annot=True, ax=ax, fmt='g', cmap='Greens')\n",
    "ax.set_xlabel('Predicted labels')\n",
    "ax.set_ylabel('True labels')\n",
    "ax.set_title('SVM Confusion Matrix')\n"
   ]
  },
  {
   "cell_type": "code",
   "execution_count": null,
   "metadata": {},
   "outputs": [],
   "source": [
    "dfr = pd.DataFrame(svm_grid.cv_results_)\n",
    "dfr[dfr['rank_test_score'] == 1]\n"
   ]
  },
  {
   "cell_type": "code",
   "execution_count": null,
   "metadata": {},
   "outputs": [],
   "source": [
    "import joblib\n",
    "joblib.dump(svm_grid, 'svm_grid_txt.pkl')\n",
    "joblib.dump(svm_grid.best_estimator_, 'best_svc_txt.pkl')\n"
   ]
  },
  {
   "cell_type": "markdown",
   "metadata": {},
   "source": [
    "## Saving predictions"
   ]
  },
  {
   "cell_type": "code",
   "execution_count": null,
   "metadata": {},
   "outputs": [],
   "source": [
    "y_predicted = best_svc.predict(X)\n",
    "X['extracted_text'] = df['extracted_text']\n",
    "X['True_class'] = df['class']\n",
    "X['Predicted_class'] = y_predicted\n",
    "X.to_csv('Predictions_txt_svm.csv')"
   ]
  },
  {
   "cell_type": "code",
   "execution_count": null,
   "metadata": {},
   "outputs": [],
   "source": [
    "df[['extracted_text', 'class']]"
   ]
  },
  {
   "cell_type": "code",
   "execution_count": null,
   "metadata": {},
   "outputs": [],
   "source": [
    "X"
   ]
  }
 ],
 "metadata": {
  "interpreter": {
   "hash": "d19b357432ce88e55d85637f355d8036bdbcd8293d5e1eb53161316a36fbb1f8"
  },
  "kernelspec": {
   "display_name": "Python 3.7.6 64-bit ('base': conda)",
   "language": "python",
   "name": "python3"
  },
  "language_info": {
   "codemirror_mode": {
    "name": "ipython",
    "version": 3
   },
   "file_extension": ".py",
   "mimetype": "text/x-python",
   "name": "python",
   "nbconvert_exporter": "python",
   "pygments_lexer": "ipython3",
   "version": "3.7.6"
  },
  "orig_nbformat": 4
 },
 "nbformat": 4,
 "nbformat_minor": 2
}
